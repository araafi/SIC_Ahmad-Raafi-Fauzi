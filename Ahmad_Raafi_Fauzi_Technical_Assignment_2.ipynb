{
  "nbformat": 4,
  "nbformat_minor": 0,
  "metadata": {
    "colab": {
      "provenance": []
    },
    "kernelspec": {
      "name": "python3",
      "display_name": "Python 3"
    },
    "language_info": {
      "name": "python"
    }
  },
  "cells": [
    {
      "cell_type": "code",
      "source": [
        "import warnings\n",
        "from sklearn.exceptions import DataConversionWarning\n",
        "warnings.filterwarnings(\"ignore\", category=DataConversionWarning)\n",
        "import pandas as pd\n",
        "from sklearn.model_selection import train_test_split, cross_val_score, GridSearchCV\n",
        "from sklearn.preprocessing import StandardScaler, OneHotEncoder\n",
        "from sklearn.compose import ColumnTransformer\n",
        "from sklearn.pipeline import Pipeline\n",
        "from sklearn.ensemble import RandomForestClassifier\n",
        "from sklearn.metrics import classification_report, confusion_matrix, roc_auc_score, precision_recall_curve, f1_score\n",
        "from sklearn.impute import SimpleImputer\n",
        "from sklearn.utils import resample\n",
        "import seaborn as sns\n",
        "import matplotlib.pyplot as plt\n",
        "import numpy as np\n",
        "from scipy.stats import zscore\n",
        "import joblib"
      ],
      "metadata": {
        "id": "TL1gyB9gDfAP"
      },
      "execution_count": null,
      "outputs": []
    },
    {
      "cell_type": "markdown",
      "source": [
        "**Memuat dataset dan memeriksa nilai yang hilang serta menghapus duplikat.**"
      ],
      "metadata": {
        "id": "rfZuHC6vDoaP"
      }
    },
    {
      "cell_type": "code",
      "source": [
        "# Memuat dataset\n",
        "data = pd.read_csv('/content/ai4i2020.csv')\n",
        "\n",
        "# Memeriksa nilai yang hilang\n",
        "print(\"Missing values in each column:\\n\", data.isnull().sum())\n",
        "\n",
        "# Menghapus duplikat\n",
        "data.drop_duplicates(inplace=True)"
      ],
      "metadata": {
        "colab": {
          "base_uri": "https://localhost:8080/"
        },
        "id": "jsvGHKgVDjzu",
        "outputId": "9468315a-1e1d-454a-99f0-82ce757be150"
      },
      "execution_count": null,
      "outputs": [
        {
          "output_type": "stream",
          "name": "stdout",
          "text": [
            "Missing values in each column:\n",
            " UDI                        0\n",
            "Product ID                 0\n",
            "Type                       0\n",
            "Air temperature [K]        0\n",
            "Process temperature [K]    0\n",
            "Rotational speed [rpm]     0\n",
            "Torque [Nm]                0\n",
            "Tool wear [min]            0\n",
            "Machine failure            0\n",
            "TWF                        0\n",
            "HDF                        0\n",
            "PWF                        0\n",
            "OSF                        0\n",
            "RNF                        0\n",
            "dtype: int64\n"
          ]
        }
      ]
    },
    {
      "cell_type": "markdown",
      "source": [
        "**Imputasi nilai yang hilang untuk kolom numerik dan kategorikal.**"
      ],
      "metadata": {
        "id": "ssGbHNPxDyPS"
      }
    },
    {
      "cell_type": "code",
      "source": [
        "# Imputasi nilai yang hilang secara terpisah untuk kolom numerik dan kategorikal\n",
        "numeric_features = ['Air temperature [K]', 'Process temperature [K]', 'Rotational speed [rpm]', 'Torque [Nm]', 'Tool wear [min]']\n",
        "categorical_features = ['Type']\n",
        "\n",
        "# Imputasi kolom numerik dengan strategi mean\n",
        "numeric_imputer = SimpleImputer(strategy='mean')\n",
        "data[numeric_features] = numeric_imputer.fit_transform(data[numeric_features])\n",
        "\n",
        "# Imputasi kolom kategorikal dengan strategi yang paling sering muncul\n",
        "categorical_imputer = SimpleImputer(strategy='most_frequent')\n",
        "data[categorical_features] = categorical_imputer.fit_transform(data[categorical_features])"
      ],
      "metadata": {
        "id": "rw_Vfjn6D0C3"
      },
      "execution_count": null,
      "outputs": []
    },
    {
      "cell_type": "markdown",
      "source": [
        "**Deteksi dan penanganan outlier menggunakan metode Z-score.**"
      ],
      "metadata": {
        "id": "OcUn-_D7D4IM"
      }
    },
    {
      "cell_type": "code",
      "source": [
        "# Deteksi dan penanganan outlier (contoh menggunakan metode Z-score)\n",
        "z_scores = np.abs(zscore(data[numeric_features]))\n",
        "data = data[(z_scores < 3).all(axis=1)]"
      ],
      "metadata": {
        "id": "RQENfXZQD6K0"
      },
      "execution_count": null,
      "outputs": []
    },
    {
      "cell_type": "markdown",
      "source": [
        "**Penyeimbangan data untuk menangani data yang tidak seimbang.**"
      ],
      "metadata": {
        "id": "sBv8qFiMD9IK"
      }
    },
    {
      "cell_type": "code",
      "source": [
        "# Penyeimbangan data untuk menangani data yang tidak seimbang\n",
        "df_majority = data[data['Machine failure'] == 0]\n",
        "df_minority = data[data['Machine failure'] == 1]\n",
        "\n",
        "# Upsample kelas minoritas\n",
        "df_minority_upsampled = resample(df_minority,\n",
        "                                 replace=True,     # sample dengan penggantian\n",
        "                                 n_samples=len(df_majority),    # untuk mencocokkan kelas mayoritas\n",
        "                                 random_state=123) # hasil yang dapat direproduksi\n",
        "\n",
        "# Menggabungkan kelas mayoritas dengan kelas minoritas yang di-upsample\n",
        "data_balanced = pd.concat([df_majority, df_minority_upsampled])"
      ],
      "metadata": {
        "id": "wP7vJxWnD-E0"
      },
      "execution_count": null,
      "outputs": []
    },
    {
      "cell_type": "markdown",
      "source": [
        "**Memisahkan fitur dan target serta mengatur pra-pemrosesan data.**"
      ],
      "metadata": {
        "id": "NaLKv3rlEBh6"
      }
    },
    {
      "cell_type": "code",
      "source": [
        "# Fitur dan target\n",
        "X = data_balanced.drop(['UDI', 'Product ID', 'Machine failure', 'TWF', 'HDF', 'PWF', 'OSF', 'RNF'], axis=1)\n",
        "y = data_balanced['Machine failure']\n",
        "\n",
        "# Pra-pemrosesan\n",
        "preprocessor = ColumnTransformer(\n",
        "    transformers=[\n",
        "        ('num', StandardScaler(), numeric_features),\n",
        "        ('cat', OneHotEncoder(), categorical_features)\n",
        "    ])"
      ],
      "metadata": {
        "id": "GNuwU66vECbp"
      },
      "execution_count": null,
      "outputs": []
    },
    {
      "cell_type": "markdown",
      "source": [
        "**Membuat pipeline model dan melatih model.**"
      ],
      "metadata": {
        "id": "KebaCl54EEi4"
      }
    },
    {
      "cell_type": "code",
      "source": [
        "# Model pipeline\n",
        "model = Pipeline(steps=[\n",
        "    ('preprocessor', preprocessor),\n",
        "    ('classifier', RandomForestClassifier(random_state=42))\n",
        "])\n",
        "\n",
        "# Membagi data menjadi set pelatihan, validasi, dan pengujian\n",
        "X_train, X_temp, y_train, y_temp = train_test_split(X, y, test_size=0.4, random_state=42)\n",
        "X_val, X_test, y_val, y_test = train_test_split(X_temp, y_temp, test_size=0.5, random_state=42)\n",
        "\n",
        "# Melatih model\n",
        "model.fit(X_train, y_train)"
      ],
      "metadata": {
        "colab": {
          "base_uri": "https://localhost:8080/",
          "height": 191
        },
        "id": "6PpptT1-EFex",
        "outputId": "218a2c8f-ae77-4676-b289-76e2da2cfefd"
      },
      "execution_count": null,
      "outputs": [
        {
          "output_type": "execute_result",
          "data": {
            "text/plain": [
              "Pipeline(steps=[('preprocessor',\n",
              "                 ColumnTransformer(transformers=[('num', StandardScaler(),\n",
              "                                                  ['Air temperature [K]',\n",
              "                                                   'Process temperature [K]',\n",
              "                                                   'Rotational speed [rpm]',\n",
              "                                                   'Torque [Nm]',\n",
              "                                                   'Tool wear [min]']),\n",
              "                                                 ('cat', OneHotEncoder(),\n",
              "                                                  ['Type'])])),\n",
              "                ('classifier', RandomForestClassifier(random_state=42))])"
            ],
            "text/html": [
              "<style>#sk-container-id-1 {color: black;background-color: white;}#sk-container-id-1 pre{padding: 0;}#sk-container-id-1 div.sk-toggleable {background-color: white;}#sk-container-id-1 label.sk-toggleable__label {cursor: pointer;display: block;width: 100%;margin-bottom: 0;padding: 0.3em;box-sizing: border-box;text-align: center;}#sk-container-id-1 label.sk-toggleable__label-arrow:before {content: \"▸\";float: left;margin-right: 0.25em;color: #696969;}#sk-container-id-1 label.sk-toggleable__label-arrow:hover:before {color: black;}#sk-container-id-1 div.sk-estimator:hover label.sk-toggleable__label-arrow:before {color: black;}#sk-container-id-1 div.sk-toggleable__content {max-height: 0;max-width: 0;overflow: hidden;text-align: left;background-color: #f0f8ff;}#sk-container-id-1 div.sk-toggleable__content pre {margin: 0.2em;color: black;border-radius: 0.25em;background-color: #f0f8ff;}#sk-container-id-1 input.sk-toggleable__control:checked~div.sk-toggleable__content {max-height: 200px;max-width: 100%;overflow: auto;}#sk-container-id-1 input.sk-toggleable__control:checked~label.sk-toggleable__label-arrow:before {content: \"▾\";}#sk-container-id-1 div.sk-estimator input.sk-toggleable__control:checked~label.sk-toggleable__label {background-color: #d4ebff;}#sk-container-id-1 div.sk-label input.sk-toggleable__control:checked~label.sk-toggleable__label {background-color: #d4ebff;}#sk-container-id-1 input.sk-hidden--visually {border: 0;clip: rect(1px 1px 1px 1px);clip: rect(1px, 1px, 1px, 1px);height: 1px;margin: -1px;overflow: hidden;padding: 0;position: absolute;width: 1px;}#sk-container-id-1 div.sk-estimator {font-family: monospace;background-color: #f0f8ff;border: 1px dotted black;border-radius: 0.25em;box-sizing: border-box;margin-bottom: 0.5em;}#sk-container-id-1 div.sk-estimator:hover {background-color: #d4ebff;}#sk-container-id-1 div.sk-parallel-item::after {content: \"\";width: 100%;border-bottom: 1px solid gray;flex-grow: 1;}#sk-container-id-1 div.sk-label:hover label.sk-toggleable__label {background-color: #d4ebff;}#sk-container-id-1 div.sk-serial::before {content: \"\";position: absolute;border-left: 1px solid gray;box-sizing: border-box;top: 0;bottom: 0;left: 50%;z-index: 0;}#sk-container-id-1 div.sk-serial {display: flex;flex-direction: column;align-items: center;background-color: white;padding-right: 0.2em;padding-left: 0.2em;position: relative;}#sk-container-id-1 div.sk-item {position: relative;z-index: 1;}#sk-container-id-1 div.sk-parallel {display: flex;align-items: stretch;justify-content: center;background-color: white;position: relative;}#sk-container-id-1 div.sk-item::before, #sk-container-id-1 div.sk-parallel-item::before {content: \"\";position: absolute;border-left: 1px solid gray;box-sizing: border-box;top: 0;bottom: 0;left: 50%;z-index: -1;}#sk-container-id-1 div.sk-parallel-item {display: flex;flex-direction: column;z-index: 1;position: relative;background-color: white;}#sk-container-id-1 div.sk-parallel-item:first-child::after {align-self: flex-end;width: 50%;}#sk-container-id-1 div.sk-parallel-item:last-child::after {align-self: flex-start;width: 50%;}#sk-container-id-1 div.sk-parallel-item:only-child::after {width: 0;}#sk-container-id-1 div.sk-dashed-wrapped {border: 1px dashed gray;margin: 0 0.4em 0.5em 0.4em;box-sizing: border-box;padding-bottom: 0.4em;background-color: white;}#sk-container-id-1 div.sk-label label {font-family: monospace;font-weight: bold;display: inline-block;line-height: 1.2em;}#sk-container-id-1 div.sk-label-container {text-align: center;}#sk-container-id-1 div.sk-container {/* jupyter's `normalize.less` sets `[hidden] { display: none; }` but bootstrap.min.css set `[hidden] { display: none !important; }` so we also need the `!important` here to be able to override the default hidden behavior on the sphinx rendered scikit-learn.org. See: https://github.com/scikit-learn/scikit-learn/issues/21755 */display: inline-block !important;position: relative;}#sk-container-id-1 div.sk-text-repr-fallback {display: none;}</style><div id=\"sk-container-id-1\" class=\"sk-top-container\"><div class=\"sk-text-repr-fallback\"><pre>Pipeline(steps=[(&#x27;preprocessor&#x27;,\n",
              "                 ColumnTransformer(transformers=[(&#x27;num&#x27;, StandardScaler(),\n",
              "                                                  [&#x27;Air temperature [K]&#x27;,\n",
              "                                                   &#x27;Process temperature [K]&#x27;,\n",
              "                                                   &#x27;Rotational speed [rpm]&#x27;,\n",
              "                                                   &#x27;Torque [Nm]&#x27;,\n",
              "                                                   &#x27;Tool wear [min]&#x27;]),\n",
              "                                                 (&#x27;cat&#x27;, OneHotEncoder(),\n",
              "                                                  [&#x27;Type&#x27;])])),\n",
              "                (&#x27;classifier&#x27;, RandomForestClassifier(random_state=42))])</pre><b>In a Jupyter environment, please rerun this cell to show the HTML representation or trust the notebook. <br />On GitHub, the HTML representation is unable to render, please try loading this page with nbviewer.org.</b></div><div class=\"sk-container\" hidden><div class=\"sk-item sk-dashed-wrapped\"><div class=\"sk-label-container\"><div class=\"sk-label sk-toggleable\"><input class=\"sk-toggleable__control sk-hidden--visually\" id=\"sk-estimator-id-1\" type=\"checkbox\" ><label for=\"sk-estimator-id-1\" class=\"sk-toggleable__label sk-toggleable__label-arrow\">Pipeline</label><div class=\"sk-toggleable__content\"><pre>Pipeline(steps=[(&#x27;preprocessor&#x27;,\n",
              "                 ColumnTransformer(transformers=[(&#x27;num&#x27;, StandardScaler(),\n",
              "                                                  [&#x27;Air temperature [K]&#x27;,\n",
              "                                                   &#x27;Process temperature [K]&#x27;,\n",
              "                                                   &#x27;Rotational speed [rpm]&#x27;,\n",
              "                                                   &#x27;Torque [Nm]&#x27;,\n",
              "                                                   &#x27;Tool wear [min]&#x27;]),\n",
              "                                                 (&#x27;cat&#x27;, OneHotEncoder(),\n",
              "                                                  [&#x27;Type&#x27;])])),\n",
              "                (&#x27;classifier&#x27;, RandomForestClassifier(random_state=42))])</pre></div></div></div><div class=\"sk-serial\"><div class=\"sk-item sk-dashed-wrapped\"><div class=\"sk-label-container\"><div class=\"sk-label sk-toggleable\"><input class=\"sk-toggleable__control sk-hidden--visually\" id=\"sk-estimator-id-2\" type=\"checkbox\" ><label for=\"sk-estimator-id-2\" class=\"sk-toggleable__label sk-toggleable__label-arrow\">preprocessor: ColumnTransformer</label><div class=\"sk-toggleable__content\"><pre>ColumnTransformer(transformers=[(&#x27;num&#x27;, StandardScaler(),\n",
              "                                 [&#x27;Air temperature [K]&#x27;,\n",
              "                                  &#x27;Process temperature [K]&#x27;,\n",
              "                                  &#x27;Rotational speed [rpm]&#x27;, &#x27;Torque [Nm]&#x27;,\n",
              "                                  &#x27;Tool wear [min]&#x27;]),\n",
              "                                (&#x27;cat&#x27;, OneHotEncoder(), [&#x27;Type&#x27;])])</pre></div></div></div><div class=\"sk-parallel\"><div class=\"sk-parallel-item\"><div class=\"sk-item\"><div class=\"sk-label-container\"><div class=\"sk-label sk-toggleable\"><input class=\"sk-toggleable__control sk-hidden--visually\" id=\"sk-estimator-id-3\" type=\"checkbox\" ><label for=\"sk-estimator-id-3\" class=\"sk-toggleable__label sk-toggleable__label-arrow\">num</label><div class=\"sk-toggleable__content\"><pre>[&#x27;Air temperature [K]&#x27;, &#x27;Process temperature [K]&#x27;, &#x27;Rotational speed [rpm]&#x27;, &#x27;Torque [Nm]&#x27;, &#x27;Tool wear [min]&#x27;]</pre></div></div></div><div class=\"sk-serial\"><div class=\"sk-item\"><div class=\"sk-estimator sk-toggleable\"><input class=\"sk-toggleable__control sk-hidden--visually\" id=\"sk-estimator-id-4\" type=\"checkbox\" ><label for=\"sk-estimator-id-4\" class=\"sk-toggleable__label sk-toggleable__label-arrow\">StandardScaler</label><div class=\"sk-toggleable__content\"><pre>StandardScaler()</pre></div></div></div></div></div></div><div class=\"sk-parallel-item\"><div class=\"sk-item\"><div class=\"sk-label-container\"><div class=\"sk-label sk-toggleable\"><input class=\"sk-toggleable__control sk-hidden--visually\" id=\"sk-estimator-id-5\" type=\"checkbox\" ><label for=\"sk-estimator-id-5\" class=\"sk-toggleable__label sk-toggleable__label-arrow\">cat</label><div class=\"sk-toggleable__content\"><pre>[&#x27;Type&#x27;]</pre></div></div></div><div class=\"sk-serial\"><div class=\"sk-item\"><div class=\"sk-estimator sk-toggleable\"><input class=\"sk-toggleable__control sk-hidden--visually\" id=\"sk-estimator-id-6\" type=\"checkbox\" ><label for=\"sk-estimator-id-6\" class=\"sk-toggleable__label sk-toggleable__label-arrow\">OneHotEncoder</label><div class=\"sk-toggleable__content\"><pre>OneHotEncoder()</pre></div></div></div></div></div></div></div></div><div class=\"sk-item\"><div class=\"sk-estimator sk-toggleable\"><input class=\"sk-toggleable__control sk-hidden--visually\" id=\"sk-estimator-id-7\" type=\"checkbox\" ><label for=\"sk-estimator-id-7\" class=\"sk-toggleable__label sk-toggleable__label-arrow\">RandomForestClassifier</label><div class=\"sk-toggleable__content\"><pre>RandomForestClassifier(random_state=42)</pre></div></div></div></div></div></div></div>"
            ]
          },
          "metadata": {},
          "execution_count": 8
        }
      ]
    },
    {
      "cell_type": "markdown",
      "source": [
        "**Melakukan evaluasi pada set validasi dan pengujian.**"
      ],
      "metadata": {
        "id": "5qtKPBgBEIyw"
      }
    },
    {
      "cell_type": "code",
      "source": [
        "# Prediksi pada set validasi\n",
        "y_val_pred = model.predict(X_val)\n",
        "\n",
        "# Evaluasi pada set validasi\n",
        "print(\"Validation Set Classification Report:\\n\", classification_report(y_val, y_val_pred))\n",
        "print(\"Validation Set Confusion Matrix:\\n\", confusion_matrix(y_val, y_val_pred))"
      ],
      "metadata": {
        "colab": {
          "base_uri": "https://localhost:8080/"
        },
        "id": "IaalemUMEJ0-",
        "outputId": "66a75877-c41f-460a-d87e-48d3f841a329"
      },
      "execution_count": null,
      "outputs": [
        {
          "output_type": "stream",
          "name": "stdout",
          "text": [
            "Validation Set Classification Report:\n",
            "               precision    recall  f1-score   support\n",
            "\n",
            "           0       1.00      0.99      1.00      1868\n",
            "           1       0.99      1.00      1.00      1944\n",
            "\n",
            "    accuracy                           1.00      3812\n",
            "   macro avg       1.00      1.00      1.00      3812\n",
            "weighted avg       1.00      1.00      1.00      3812\n",
            "\n",
            "Validation Set Confusion Matrix:\n",
            " [[1856   12]\n",
            " [   0 1944]]\n"
          ]
        }
      ]
    },
    {
      "cell_type": "markdown",
      "source": [
        "Laporan Klasifikasi\n",
        "\n",
        "1. Precision\n",
        "- Kelas 0: 1.00\n",
        "  \n",
        "  Dari semua prediksi yang model katakan sebagai kelas 0, 100% benar.\n",
        "- Kelas 1: 0.99\n",
        "\n",
        "  Dari semua prediksi yang model katakan sebagai kelas 1, 99% benar.\n",
        "\n",
        "2. Recall\n",
        "- Kelas 0: 0.99\n",
        "\n",
        "  Dari semua contoh sebenarnya yang merupakan kelas 0, 99% dikenali dengan benar oleh model.\n",
        "- Kelas 1: 1.00\n",
        "\n",
        "  Dari semua contoh sebenarnya yang merupakan kelas 1, 100% dikenali dengan benar oleh model.\n",
        "\n",
        "3. F1-Score\n",
        "- Kelas 0: 1.00\n",
        "  \n",
        "  Kombinasi dari precision dan recall untuk kelas 0 sangat baik.\n",
        "- Kelas 1: 1.00\n",
        "\n",
        "  Kombinasi dari precision dan recall untuk kelas 1 juga sangat baik.\n",
        "\n",
        "4. Accuracy\n",
        "-  Akurasi total: 1.00\n",
        "\n",
        "  Model secara keseluruhan memiliki akurasi 100%, yang berarti semua prediksi yang dihasilkan model hampir sempurna.\n",
        "\n",
        "5. Macro Avg\n",
        "- Macro Avg Precision, Recall, F1-Score: 1.00\n",
        "\n",
        "  Rata-rata dari metrik untuk kedua kelas menunjukkan bahwa model berkinerja sangat baik secara keseluruhan tanpa adanya ketidakseimbangan performa antar kelas.\n",
        "\n",
        "6. Weighted Avg\n",
        "- Weighted Avg Precision, Recall, F1-Score: 1.00\n",
        "\n",
        "  Rata-rata tertimbang dari metrik juga menunjukkan performa tinggi, mempertimbangkan jumlah sampel di setiap kelas.\n",
        "\n",
        "7. Matriks Kebingungan\n",
        "-  True Positives (TP):\n",
        "\n",
        "  Kelas 0: 1856\n",
        "\n",
        "  Kelas 1: 1944\n",
        "\n",
        "- False Positives (FP):\n",
        "\n",
        "  Kelas 0: 0\n",
        "\n",
        "  Kelas 1: 12\n",
        "\n",
        "- False Negatives (FN):\n",
        "\n",
        "  Kelas 0: 12\n",
        "\n",
        "  Kelas 1: 0\n",
        "\n",
        "- True Negatives (TN):\n",
        "\n",
        "  Kelas 0: 1944\n",
        "\n",
        "  Kelas 1: 1856\n",
        "\n",
        "\n",
        "Ringkasan:\n",
        "\n",
        "Model ini hampir sempurna dalam memprediksi kelas pada set validasi.\n",
        "\n",
        "Precision, recall, dan F1-score sangat tinggi untuk kedua kelas, menunjukkan bahwa model ini sangat akurat dalam mengidentifikasi kedua kelas.\n",
        "Matriks kebingungan menunjukkan sedikit kesalahan, dengan hanya 12 prediksi kelas 0 yang seharusnya kelas 1. Tidak ada kesalahan dalam mengenali kelas 1 sebagai kelas 0.\n",
        "Secara keseluruhan, performa model sangat memuaskan dengan akurasi mendekati 100%, menandakan bahwa model ini sangat andal untuk tugas klasifikasi pada dataset yang diberikan."
      ],
      "metadata": {
        "id": "_vTDMAs4EzDN"
      }
    },
    {
      "cell_type": "code",
      "source": [
        "# Prediksi pada set pengujian\n",
        "y_test_pred = model.predict(X_test)\n",
        "\n",
        "# Evaluasi pada set pengujian\n",
        "print(\"Test Set Classification Report:\\n\", classification_report(y_test, y_test_pred))\n",
        "print(\"Test Set Confusion Matrix:\\n\", confusion_matrix(y_test, y_test_pred))"
      ],
      "metadata": {
        "colab": {
          "base_uri": "https://localhost:8080/"
        },
        "id": "8jIR4Z1sExGN",
        "outputId": "e3ed5042-a697-4455-d283-ee42f23b5805"
      },
      "execution_count": null,
      "outputs": [
        {
          "output_type": "stream",
          "name": "stdout",
          "text": [
            "Test Set Classification Report:\n",
            "               precision    recall  f1-score   support\n",
            "\n",
            "           0       1.00      0.99      1.00      1951\n",
            "           1       0.99      1.00      1.00      1861\n",
            "\n",
            "    accuracy                           1.00      3812\n",
            "   macro avg       1.00      1.00      1.00      3812\n",
            "weighted avg       1.00      1.00      1.00      3812\n",
            "\n",
            "Test Set Confusion Matrix:\n",
            " [[1937   14]\n",
            " [   0 1861]]\n"
          ]
        }
      ]
    },
    {
      "cell_type": "markdown",
      "source": [
        "Laporan Klasifikasi\n",
        "\n",
        "1. Precision\n",
        "- Kelas 0: 1.00\n",
        "\n",
        "  Dari semua prediksi yang model katakan sebagai kelas 0, 100% benar.\n",
        "- Kelas 1: 0.99\n",
        "\n",
        "  Dari semua prediksi yang model katakan sebagai kelas 1, 99% benar.\n",
        "\n",
        "2. Recall\n",
        "- Kelas 0: 0.99\n",
        "\n",
        "  Dari semua contoh sebenarnya yang merupakan kelas 0, 99% dikenali dengan benar oleh model.\n",
        "\n",
        "- Kelas 1: 1.00\n",
        "\n",
        " Dari semua contoh sebenarnya yang merupakan kelas 1, 100% dikenali dengan benar oleh model.\n",
        "\n",
        "3. F1-Score\n",
        "- Kelas 0: 1.00\n",
        "\n",
        "  Kombinasi dari precision dan recall untuk kelas 0 sangat baik.\n",
        "- Kelas 1: 1.00\n",
        "\n",
        "  Kombinasi dari precision dan recall untuk kelas 1 juga sangat baik.\n",
        "\n",
        "4. Accuracy\n",
        "- Akurasi total: 1.00\n",
        "\n",
        "  Model secara keseluruhan memiliki akurasi 100%, yang berarti semua prediksi yang dihasilkan model hampir sempurna.\n",
        "\n",
        "5. Macro Avg\n",
        "- Macro Avg Precision, Recall, F1-Score: 1.00\n",
        "\n",
        "  Rata-rata dari metrik untuk kedua kelas menunjukkan bahwa model berkinerja sangat baik secara keseluruhan tanpa adanya ketidakseimbangan performa antar kelas.\n",
        "\n",
        "6. Weighted Avg\n",
        "- Weighted Avg Precision, Recall, F1-Score: 1.00\n",
        "  Rata-rata tertimbang dari metrik juga menunjukkan performa tinggi, mempertimbangkan jumlah sampel di setiap kelas.\n",
        "\n",
        "7. Matriks Kebingungan\n",
        "- True Positives (TP):\n",
        "\n",
        "  Kelas 0: 1937\n",
        "\n",
        "  Kelas 1: 1861\n",
        "\n",
        "- False Positives (FP):\n",
        "\n",
        "  Kelas 0: 0\n",
        "\n",
        "  Kelas 1: 14\n",
        "\n",
        "- False Negatives (FN):\n",
        "\n",
        "  Kelas 0: 14\n",
        "\n",
        "  Kelas 1: 0\n",
        "\n",
        "- True Negatives (TN):\n",
        "\n",
        "  Kelas 0: 1861\n",
        "\n",
        "  Kelas 1: 1937\n",
        "\n",
        "Ringkasan:\n",
        "\n",
        "Model ini menunjukkan performa yang hampir sempurna pada set pengujian.\n",
        "\n",
        "Precision, recall, dan F1-score sangat tinggi untuk kedua kelas, menunjukkan bahwa model ini sangat akurat dalam mengidentifikasi kedua kelas.\n",
        "Matriks kebingungan menunjukkan sedikit kesalahan, dengan hanya 14 prediksi kelas 0 yang seharusnya kelas 1. Tidak ada kesalahan dalam mengenali kelas 1 sebagai kelas 0.\n",
        "Secara keseluruhan, performa model sangat memuaskan dengan akurasi mendekati 100%, menandakan bahwa model ini sangat andal untuk tugas klasifikasi pada dataset pengujian yang diberikan.\n",
        "Kesimpulannya, model ini bekerja dengan sangat baik baik pada set validasi maupun set pengujian, menunjukkan kemampuan generalisasi yang kuat dan kinerja klasifikasi yang sangat tinggi."
      ],
      "metadata": {
        "id": "Y-_BzjYbEdxc"
      }
    },
    {
      "cell_type": "markdown",
      "source": [
        "**Mengecek pentingnya fitur dan multikolinieritas.**"
      ],
      "metadata": {
        "id": "sguhdUpfEVHD"
      }
    },
    {
      "cell_type": "code",
      "source": [
        "# Mengecek pentingnya fitur\n",
        "rf = model.named_steps['classifier']\n",
        "importances = rf.feature_importances_\n",
        "features = numeric_features + list(model.named_steps['preprocessor'].transformers_[1][1].get_feature_names_out())\n",
        "feature_importances = pd.Series(importances, index=features)\n",
        "\n",
        "# Plot pentingnya fitur\n",
        "plt.figure(figsize=(10, 6))\n",
        "feature_importances.sort_values(ascending=False).plot(kind='bar')\n",
        "plt.title('Feature Importances')\n",
        "plt.show()"
      ],
      "metadata": {
        "colab": {
          "base_uri": "https://localhost:8080/",
          "height": 699
        },
        "id": "Uh_vSk7eEWM3",
        "outputId": "6f350487-52b6-4443-e40b-2dbf6b0d78f6"
      },
      "execution_count": null,
      "outputs": [
        {
          "output_type": "display_data",
          "data": {
            "text/plain": [
              "<Figure size 1000x600 with 1 Axes>"
            ],
            "image/png": "[encoded data removed]"
          },
          "metadata": {}
        }
      ]
    },
    {
      "cell_type": "markdown",
      "source": [
        "**Memprediksi kegagalan mesin dengan data baru.**"
      ],
      "metadata": {
        "id": "O5g4gh71G3Ze"
      }
    },
    {
      "cell_type": "code",
      "source": [
        "# Data baru untuk prediksi\n",
        "new_data = pd.DataFrame({\n",
        "    'Air temperature [K]': [300],\n",
        "    'Process temperature [K]': [310],\n",
        "    'Rotational speed [rpm]': [1500],\n",
        "    'Torque [Nm]': [40],\n",
        "    'Tool wear [min]': [10],\n",
        "    'Type': ['M']\n",
        "})\n",
        "\n",
        "# Prediksi kegagalan mesin\n",
        "prediction = model.predict(new_data)\n",
        "print(f'Predicted Machine Failure: {prediction[0]}')"
      ],
      "metadata": {
        "colab": {
          "base_uri": "https://localhost:8080/"
        },
        "id": "jmQ8fVApG4Oi",
        "outputId": "162cbbd8-b763-43e2-bd67-bc68b2e22e7b"
      },
      "execution_count": null,
      "outputs": [
        {
          "output_type": "stream",
          "name": "stdout",
          "text": [
            "Predicted Machine Failure: 0\n"
          ]
        }
      ]
    },
    {
      "cell_type": "markdown",
      "source": [
        "1. Konteks Prediksi\n",
        "\n",
        "- Machine Failure (Kegagalan Mesin):\n",
        "\n",
        "  Kelas 0: Biasanya mewakili kondisi \"tidak ada kegagalan mesin\" atau \"normal\".\n",
        "  \n",
        "  Kelas 1: Biasanya mewakili kondisi \"kegagalan mesin\" atau \"abnormal\".\n",
        "\n",
        "\n",
        "2. Penjelasan Prediksi\n",
        "\n",
        "- Predicted Machine Failure:\n",
        "\n",
        "  0 berarti model memprediksi bahwa mesin tidak mengalami kegagalan atau kondisi mesin adalah normal.\n",
        "\n",
        "  Jika model mengklasifikasikan contoh tertentu sebagai kelas 0, maka model tersebut memutuskan bahwa mesin dalam kondisi baik dan tidak mengalami kegagalan.\n",
        "\n",
        "3. Relevansi terhadap Klasifikasi\n",
        "\n",
        "  Precision, Recall, F1-Score untuk Kelas 0:\n",
        "\n",
        "  Precision dan recall yang sangat tinggi (mendekati atau sama dengan 1.00) menunjukkan bahwa prediksi \"tidak ada kegagalan mesin\" (kelas 0) sangat akurat.\n",
        "\n",
        "4. Confusion Matrix:\n",
        "\n",
        "  Menunjukkan bahwa dari 1951 contoh sebenarnya yang merupakan kelas 0, 1937 dikenali dengan benar sebagai kelas 0 (true positives) dan hanya 14 yang salah dikenali sebagai kelas 1 (false negatives).\n",
        "\n",
        "5. Signifikansi dalam Praktik\n",
        "\n",
        "- Keandalan Model:\n",
        "\n",
        "  Model yang dapat dengan akurat memprediksi kondisi normal (tidak ada kegagalan) sangat penting untuk sistem yang memonitor kinerja mesin. Hal ini membantu dalam pemeliharaan prediktif dan mengurangi kemungkinan kegagalan mesin yang tidak terduga.\n",
        "\n",
        "- Keputusan Pemeliharaan:\n",
        "\n",
        "  Prediksi \"0\" mengindikasikan bahwa tidak diperlukan tindakan pemeliharaan segera atau pemeriksaan tambahan pada mesin, karena mesin diperkirakan dalam kondisi baik.\n",
        "\n",
        "Secara keseluruhan, \"Predicted Machine Failure: 0\" berarti model memprediksi bahwa mesin akan beroperasi dengan normal tanpa mengalami kegagalan dalam periode yang diprediksi."
      ],
      "metadata": {
        "id": "0jim7ZpcHG1q"
      }
    },
    {
      "cell_type": "markdown",
      "source": [
        "**Melakukan validasi silang dan tuning hyperparameter.**"
      ],
      "metadata": {
        "id": "LBtODRtPG6WY"
      }
    },
    {
      "cell_type": "code",
      "source": [
        "# Validasi Silang\n",
        "cv_scores = cross_val_score(model, X, y, cv=5)\n",
        "print(f'Cross-validation scores: {cv_scores}')\n",
        "print(f'Mean cross-validation score: {cv_scores.mean()}')\n",
        "\n",
        "# Tuning Hyperparameter dengan GridSearchCV\n",
        "param_grid = {\n",
        "    'classifier__n_estimators': [100, 200, 300],\n",
        "    'classifier__max_features': ['sqrt', 'log2'],  # diupdate dari 'auto' ke 'sqrt'\n",
        "    'classifier__max_depth': [None, 10, 20, 30]\n",
        "}\n",
        "grid_search = GridSearchCV(model, param_grid, cv=5, scoring='accuracy')\n",
        "grid_search.fit(X_train, y_train)\n",
        "print(f'Best parameters: {grid_search.best_params_}')"
      ],
      "metadata": {
        "colab": {
          "base_uri": "https://localhost:8080/"
        },
        "id": "OwbEUxEuG-pF",
        "outputId": "ffc6fb7a-5c18-4ff6-a90e-d8b106e49197"
      },
      "execution_count": null,
      "outputs": [
        {
          "output_type": "stream",
          "name": "stdout",
          "text": [
            "Cross-validation scores: [0.99265477 0.99055614 0.93100735 0.99370244 0.99868801]\n",
            "Mean cross-validation score: 0.9813217413666685\n",
            "Best parameters: {'classifier__max_depth': 20, 'classifier__max_features': 'log2', 'classifier__n_estimators': 300}\n"
          ]
        }
      ]
    },
    {
      "cell_type": "markdown",
      "source": [
        "1. Cross-validation scores:\n",
        "\n",
        "  Nilai-nilai ini menunjukkan kinerja model pada setiap lipatan (fold) dalam proses cross-validation. Dalam hal ini, ada 5 lipatan dan masing-masing memberikan skor sebagai berikut:\n",
        "\n",
        "- Lipatan 1: 0.99265477\n",
        "- Lipatan 2: 0.99055614\n",
        "- Lipatan 3: 0.93100735\n",
        "- Lipatan 4: 0.99370244\n",
        "- Lipatan 5: 0.99868801\n",
        "\n",
        "Skor ini menunjukkan bahwa model memiliki kinerja yang sangat baik di hampir semua lipatan, kecuali pada lipatan 3 yang memiliki skor lebih rendah (0.93100735). Hal ini menunjukkan ada sedikit variabilitas dalam kinerja model pada berbagai subset data.\n",
        "\n",
        "2. Mean cross-validation score:\n",
        "\n",
        "  Rata-rata skor cross-validation adalah 0.9813217413666685. Ini menunjukkan bahwa secara keseluruhan, model memiliki kinerja yang sangat baik pada data yang berbeda yang digunakan dalam cross-validation."
      ],
      "metadata": {
        "id": "wc739fPpZ6H8"
      }
    },
    {
      "cell_type": "markdown",
      "source": [
        "**Menyimpan dan memuat model yang telah dilatih.**"
      ],
      "metadata": {
        "id": "mEtby2goMq1j"
      }
    },
    {
      "cell_type": "code",
      "source": [
        "# Menyimpan model\n",
        "joblib.dump(model, 'random_forest_model.pkl')\n",
        "\n",
        "# Memuat model\n",
        "loaded_model = joblib.load('random_forest_model.pkl')"
      ],
      "metadata": {
        "id": "6HnLLljoMS9E"
      },
      "execution_count": null,
      "outputs": []
    },
    {
      "cell_type": "markdown",
      "source": [
        "**Melakukan evaluasi tambahan data.**"
      ],
      "metadata": {
        "id": "RVD27jyJMpY5"
      }
    },
    {
      "cell_type": "code",
      "source": [
        "# Evaluasi Lengkap\n",
        "roc_auc = roc_auc_score(y_test, y_test_pred)\n",
        "precision, recall, _ = precision_recall_curve(y_test, y_test_pred)\n",
        "f1 = f1_score(y_test, y_test_pred)\n",
        "\n",
        "print(f'ROC-AUC: {roc_auc}')\n",
        "print(f'F1 Score: {f1}')"
      ],
      "metadata": {
        "colab": {
          "base_uri": "https://localhost:8080/"
        },
        "id": "GEM2CHbGNJ55",
        "outputId": "e1adab3f-a581-4fb8-df5b-836679eca516"
      },
      "execution_count": null,
      "outputs": [
        {
          "output_type": "stream",
          "name": "stdout",
          "text": [
            "ROC-AUC: 0.9964120963608406\n",
            "F1 Score: 0.996252676659529\n"
          ]
        }
      ]
    },
    {
      "cell_type": "markdown",
      "source": [
        "1. ROC-AUC (Receiver Operating Characteristic - Area Under the Curve):\n",
        "\n",
        "- Nilai: 0.9964120963608406\n",
        "\n",
        "  ROC-AUC mengukur seberapa baik model dapat memisahkan antara kelas positif dan negatif.\n",
        "\n",
        "  Nilai ROC-AUC yang mendekati 1.0 menunjukkan bahwa model memiliki kemampuan yang sangat baik dalam membedakan antara kelas positif dan negatif.\n",
        "\n",
        "  Lebih spesifik, nilai ROC-AUC yang tinggi (di atas 0.5) menunjukkan bahwa model memiliki tingkat true positive yang tinggi dan tingkat false positive yang rendah, yang sangat diinginkan dalam banyak kasus.\n",
        "\n",
        "2. F1 Score:\n",
        "\n",
        "- Nilai: 0.996252676659529\n",
        "\n",
        "  F1 Score adalah ukuran gabungan dari precision dan recall, yang memberikan gambaran tentang seberapa baik model dapat mengidentifikasi kelas positif tanpa mengabaikan kelas negatif.\n",
        "\n",
        "  F1 Score yang mendekati 1.0 menunjukkan bahwa model memiliki presisi (precision) dan recall yang sangat tinggi secara bersamaan.\n",
        "\n",
        "  Nilai F1 Score yang tinggi menunjukkan bahwa model memiliki keseimbangan yang baik antara precision dan recall, yang penting terutama jika kelas positif dan negatif tidak seimbang dalam dataset.\n",
        "\n",
        "Kesimpulan\n",
        "\n",
        "Nilai ROC-AUC yang tinggi (0.9964) menunjukkan bahwa model memiliki performa yang sangat baik dalam memisahkan antara kelas positif dan negatif.\n",
        "\n",
        "F1 Score yang tinggi (0.9963) menunjukkan bahwa model memiliki presisi yang tinggi dalam mengklasifikasikan kelas positif dan recall yang tinggi dalam mengidentifikasi sebagian besar dari kelas positif yang sebenarnya.\n",
        "\n",
        "Secara keseluruhan, kedua metrik ini menunjukkan bahwa model klasifikasi yang dievaluasi memiliki performa yang sangat tinggi dan dapat diandalkan untuk tugas klasifikasi pada dataset yang digunakan."
      ],
      "metadata": {
        "id": "jLUGMU9YNEzF"
      }
    },
    {
      "cell_type": "markdown",
      "source": [
        "**Menggunakan skenario data baru untuk pengujian.**"
      ],
      "metadata": {
        "id": "yktDJfdfM3_W"
      }
    },
    {
      "cell_type": "code",
      "source": [
        "# Pengujian dengan Skenario Data Baru\n",
        "new_data_scenarios = pd.DataFrame({\n",
        "    'Air temperature [K]': [290, 300, 310],\n",
        "    'Process temperature [K]': [305, 310, 315],\n",
        "    'Rotational speed [rpm]': [1400, 1500, 1600],\n",
        "    'Torque [Nm]': [35, 40, 45],\n",
        "    'Tool wear [min]': [5, 10, 15],\n",
        "    'Type': ['M', 'L', 'H']\n",
        "})\n",
        "\n",
        "predictions = loaded_model.predict(new_data_scenarios)\n",
        "print(f'Predictions for new scenarios: {predictions}')"
      ],
      "metadata": {
        "colab": {
          "base_uri": "https://localhost:8080/"
        },
        "id": "bnSVrpfNM2h6",
        "outputId": "317cd11e-37d1-4157-86c6-e0ce81963729"
      },
      "execution_count": null,
      "outputs": [
        {
          "output_type": "stream",
          "name": "stdout",
          "text": [
            "Predictions for new scenarios: [0 0 0]\n"
          ]
        }
      ]
    },
    {
      "cell_type": "markdown",
      "source": [
        "Prediksi untuk skenario data baru adalah [0, 0, 0]. Artinya:\n",
        "\n",
        "1. Skenario pertama (indeks 0):\n",
        "\n",
        "  Model memprediksi bahwa mesin tidak akan mengalami kegagalan.\n",
        "2. Skenario kedua (indeks 1):\n",
        "\n",
        "  Model juga memprediksi bahwa mesin tidak akan mengalami kegagalan.\n",
        "3. Skenario ketiga (indeks 2):\n",
        "\n",
        "  Begitu juga, model memprediksi bahwa mesin tidak akan mengalami kegagalan.\n",
        "\n",
        "Dengan kata lain, berdasarkan fitur-fitur yang diberikan dalam skenario baru, model memprediksi bahwa dalam semua kasus, mesin tidak akan mengalami kegagalan (kelas 0)."
      ],
      "metadata": {
        "id": "axyaan1YNXIZ"
      }
    }
  ]
}